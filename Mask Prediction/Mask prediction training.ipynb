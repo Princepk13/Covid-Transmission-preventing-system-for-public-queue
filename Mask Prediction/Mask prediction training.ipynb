{
 "cells": [
  {
   "cell_type": "code",
   "execution_count": 1,
   "metadata": {},
   "outputs": [],
   "source": [
    "from tensorflow.keras.models import Sequential\n",
    "from tensorflow.keras.layers import Dense, Convolution2D,MaxPooling2D,Flatten"
   ]
  },
  {
   "cell_type": "code",
   "execution_count": 2,
   "metadata": {},
   "outputs": [],
   "source": [
    "from tensorflow.keras.preprocessing .image import ImageDataGenerator\n",
    "\n",
    "train_datagen = ImageDataGenerator(rescale = 1./255,shear_range = 0.2,zoom_range = 0.2,horizontal_flip = True)\n",
    "test_datagen = ImageDataGenerator(rescale = 1./255)"
   ]
  },
  {
   "cell_type": "code",
   "execution_count": 3,
   "metadata": {},
   "outputs": [
    {
     "name": "stdout",
     "output_type": "stream",
     "text": [
      "Found 2347 images belonging to 2 classes.\n",
      "Found 534 images belonging to 2 classes.\n"
     ]
    }
   ],
   "source": [
    "x_train = train_datagen.flow_from_directory(r'C:\\Users\\prince\\Documents\\mask prediction\\train\\training',target_size = (64,64),batch_size = 32,class_mode = \"categorical\")\n",
    "x_test = test_datagen.flow_from_directory(r'C:\\Users\\prince\\Documents\\mask prediction\\train\\testing',target_size = (64,64),batch_size = 32,class_mode = \"categorical\")"
   ]
  },
  {
   "cell_type": "code",
   "execution_count": 4,
   "metadata": {},
   "outputs": [
    {
     "data": {
      "text/plain": [
       "{'mask': 0, 'unmask': 1}"
      ]
     },
     "execution_count": 4,
     "metadata": {},
     "output_type": "execute_result"
    }
   ],
   "source": [
    "x_train.class_indices"
   ]
  },
  {
   "cell_type": "code",
   "execution_count": 5,
   "metadata": {},
   "outputs": [],
   "source": [
    "model = Sequential()"
   ]
  },
  {
   "cell_type": "code",
   "execution_count": 6,
   "metadata": {},
   "outputs": [],
   "source": [
    "model.add(Convolution2D(32,(3,3),input_shape = (64,64,3)))"
   ]
  },
  {
   "cell_type": "code",
   "execution_count": 7,
   "metadata": {},
   "outputs": [],
   "source": [
    "model.add(MaxPooling2D((2,2)))"
   ]
  },
  {
   "cell_type": "code",
   "execution_count": 8,
   "metadata": {},
   "outputs": [],
   "source": [
    "model.add(Flatten())"
   ]
  },
  {
   "cell_type": "code",
   "execution_count": 9,
   "metadata": {},
   "outputs": [],
   "source": [
    "model.add(Dense(units = 128, kernel_initializer= \"random_uniform\",activation = \"relu\"))"
   ]
  },
  {
   "cell_type": "code",
   "execution_count": 10,
   "metadata": {},
   "outputs": [],
   "source": [
    "model.add(Dense(units = 2 , kernel_initializer= \"random_uniform\",activation = \"softmax\"))"
   ]
  },
  {
   "cell_type": "code",
   "execution_count": 11,
   "metadata": {},
   "outputs": [],
   "source": [
    "model.compile(optimizer= \"adam\",loss = \"categorical_crossentropy\" , metrics =[\"accuracy\"])"
   ]
  },
  {
   "cell_type": "code",
   "execution_count": 12,
   "metadata": {},
   "outputs": [
    {
     "name": "stdout",
     "output_type": "stream",
     "text": [
      "Epoch 1/20\n",
      "WARNING:tensorflow:From C:\\Users\\prince\\Anaconda3\\lib\\site-packages\\tensorflow\\python\\ops\\math_grad.py:1250: add_dispatch_support.<locals>.wrapper (from tensorflow.python.ops.array_ops) is deprecated and will be removed in a future version.\n",
      "Instructions for updating:\n",
      "Use tf.where in 2.0, which has the same broadcast rule as np.where\n",
      "50/50 [==============================] - 12s 235ms/step - loss: 0.7216 - accuracy: 0.6498 - val_loss: 0.4741 - val_accuracy: 0.6921\n",
      "Epoch 2/20\n",
      "50/50 [==============================] - 11s 218ms/step - loss: 0.4230 - accuracy: 0.8144 - val_loss: 0.5181 - val_accuracy: 0.6841\n",
      "Epoch 3/20\n",
      "50/50 [==============================] - 11s 216ms/step - loss: 0.3397 - accuracy: 0.8813 - val_loss: 0.1141 - val_accuracy: 0.9778\n",
      "Epoch 4/20\n",
      "50/50 [==============================] - 11s 228ms/step - loss: 0.2327 - accuracy: 0.9284 - val_loss: 0.0637 - val_accuracy: 0.9921\n",
      "Epoch 5/20\n",
      "50/50 [==============================] - 12s 247ms/step - loss: 0.2151 - accuracy: 0.9194 - val_loss: 0.0619 - val_accuracy: 0.9921\n",
      "Epoch 6/20\n",
      "50/50 [==============================] - 12s 236ms/step - loss: 0.2005 - accuracy: 0.9379 - val_loss: 0.0382 - val_accuracy: 0.9968\n",
      "Epoch 7/20\n",
      "50/50 [==============================] - 12s 232ms/step - loss: 0.1703 - accuracy: 0.9430 - val_loss: 0.0252 - val_accuracy: 0.9984\n",
      "Epoch 8/20\n",
      "50/50 [==============================] - 11s 222ms/step - loss: 0.1890 - accuracy: 0.9341 - val_loss: 0.0339 - val_accuracy: 0.9937\n",
      "Epoch 9/20\n",
      "50/50 [==============================] - 12s 237ms/step - loss: 0.1609 - accuracy: 0.9438 - val_loss: 0.0707 - val_accuracy: 0.9794\n",
      "Epoch 10/20\n",
      "50/50 [==============================] - 12s 246ms/step - loss: 0.1697 - accuracy: 0.9424 - val_loss: 0.0381 - val_accuracy: 0.9889\n",
      "Epoch 11/20\n",
      "50/50 [==============================] - 12s 235ms/step - loss: 0.1446 - accuracy: 0.9449 - val_loss: 0.0516 - val_accuracy: 0.9841\n",
      "Epoch 12/20\n",
      "50/50 [==============================] - 12s 241ms/step - loss: 0.1439 - accuracy: 0.9506 - val_loss: 0.0204 - val_accuracy: 0.9968\n",
      "Epoch 13/20\n",
      "50/50 [==============================] - 11s 225ms/step - loss: 0.1269 - accuracy: 0.9538 - val_loss: 0.0199 - val_accuracy: 0.9952\n",
      "Epoch 14/20\n",
      "50/50 [==============================] - 12s 232ms/step - loss: 0.1045 - accuracy: 0.9606 - val_loss: 0.0109 - val_accuracy: 1.0000\n",
      "Epoch 15/20\n",
      "50/50 [==============================] - 12s 236ms/step - loss: 0.0986 - accuracy: 0.9639 - val_loss: 0.0127 - val_accuracy: 0.9984\n",
      "Epoch 16/20\n",
      "50/50 [==============================] - 12s 245ms/step - loss: 0.1093 - accuracy: 0.9588 - val_loss: 0.0329 - val_accuracy: 0.9889\n",
      "Epoch 17/20\n",
      "50/50 [==============================] - 12s 250ms/step - loss: 0.0996 - accuracy: 0.9563 - val_loss: 0.0150 - val_accuracy: 0.9968\n",
      "Epoch 18/20\n",
      "50/50 [==============================] - 11s 227ms/step - loss: 0.1078 - accuracy: 0.9607 - val_loss: 0.0073 - val_accuracy: 1.0000\n",
      "Epoch 19/20\n",
      "50/50 [==============================] - 12s 245ms/step - loss: 0.0945 - accuracy: 0.9650 - val_loss: 0.0056 - val_accuracy: 1.0000\n",
      "Epoch 20/20\n",
      "50/50 [==============================] - 11s 226ms/step - loss: 0.0820 - accuracy: 0.9712 - val_loss: 0.0043 - val_accuracy: 1.0000\n"
     ]
    },
    {
     "data": {
      "text/plain": [
       "<tensorflow.python.keras.callbacks.History at 0x1d56fb0bcf8>"
      ]
     },
     "execution_count": 12,
     "metadata": {},
     "output_type": "execute_result"
    }
   ],
   "source": [
    "model.fit_generator(x_train,steps_per_epoch = 50 , epochs = 20 , validation_data = x_test,validation_steps = 20 )"
   ]
  },
  {
   "cell_type": "code",
   "execution_count": 13,
   "metadata": {},
   "outputs": [],
   "source": [
    "model.save('mask_prediction.h5')"
   ]
  },
  {
   "cell_type": "code",
   "execution_count": null,
   "metadata": {},
   "outputs": [],
   "source": []
  }
 ],
 "metadata": {
  "kernelspec": {
   "display_name": "Python 3",
   "language": "python",
   "name": "python3"
  },
  "language_info": {
   "codemirror_mode": {
    "name": "ipython",
    "version": 3
   },
   "file_extension": ".py",
   "mimetype": "text/x-python",
   "name": "python",
   "nbconvert_exporter": "python",
   "pygments_lexer": "ipython3",
   "version": "3.7.3"
  }
 },
 "nbformat": 4,
 "nbformat_minor": 2
}
